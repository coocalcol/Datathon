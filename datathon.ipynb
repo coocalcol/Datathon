{
 "cells": [
  {
   "cell_type": "code",
   "execution_count": 1,
   "metadata": {},
   "outputs": [],
   "source": [
    "%load_ext autoreload\n",
    "%autoreload 2\n",
    "%matplotlib inline\n",
    "import numpy as np\n",
    "from numpy import genfromtxt\n",
    "import pandas as pd\n",
    "from sklearn.linear_model import LogisticRegression\n",
    "from sklearn.ensemble import RandomForestClassifier"
   ]
  },
  {
   "cell_type": "code",
   "execution_count": 2,
   "metadata": {
    "collapsed": true
   },
   "outputs": [],
   "source": [
    "# Load data\n",
    "gtex_gene_expression = pd.read_csv('gtex_gene_expression.csv')\n",
    "genes = pd.read_csv('genes.csv')\n",
    "gtex_donor = pd.read_csv('gtex_donor.csv')\n",
    "gtex_gene_model = pd.read_csv('gtex_gene_model.csv')\n",
    "gtex_sample = pd.read_csv('gtex_sample.csv')\n",
    "gtex_tissue = pd.read_csv('gtex_tissue.csv')\n",
    "tcga = pd.read_csv('tcga.csv') \n",
    "#gtex_sample_expression = pd.read_csv('gtex_sample_expression.csv')"
   ]
  },
  {
   "cell_type": "code",
   "execution_count": 3,
   "metadata": {},
   "outputs": [],
   "source": [
    "# Preprocess cancer data\n",
    "organ_cancer = {}\n",
    "organs = ['Breast', 'HeadAndNeck', 'Kidney', 'Brain', 'Lung', 'Prostate',\n",
    "       'Thyroid', 'Uterus']\n",
    "for organ in organs:\n",
    "    organ_temp = tcga[tcga['organ'] == organ]\n",
    "    organ_temp = organ_temp.pivot(index = 'sample_number', columns = 'gene_id', values = 'fpkm_expression').sort_index()\n",
    "    length = organ_temp.shape[0]\n",
    "    organ_temp['cancer'] = pd.Series(np.ones(length), index=organ_temp.index)\n",
    "    organ_cancer[organ] = organ_temp"
   ]
  },
  {
   "cell_type": "code",
   "execution_count": 4,
   "metadata": {},
   "outputs": [
    {
     "name": "stdout",
     "output_type": "stream",
     "text": [
      "Breast :  (1222, 2843)\n",
      "HeadAndNeck :  (546, 2843)\n",
      "Kidney :  (611, 2843)\n",
      "Brain :  (529, 2843)\n",
      "Lung :  (594, 2843)\n",
      "Prostate :  (551, 2843)\n",
      "Thyroid :  (568, 2843)\n",
      "Uterus :  (587, 2843)\n"
     ]
    }
   ],
   "source": [
    "# Description of cancer data\n",
    "for organ in organs:\n",
    "    print(organ, \": \", organ_cancer[organ].shape)"
   ]
  },
  {
   "cell_type": "code",
   "execution_count": 6,
   "metadata": {},
   "outputs": [],
   "source": [
    "#\n",
    "df = organ_cancer['Brain']"
   ]
  },
  {
   "cell_type": "code",
   "execution_count": 8,
   "metadata": {},
   "outputs": [
    {
     "name": "stdout",
     "output_type": "stream",
     "text": [
      "Number of observations in the training data: 391\n",
      "Number of observations in the test data: 138\n"
     ]
    }
   ],
   "source": [
    "# Train/test split \n",
    "df['is_train'] = np.random.uniform(0, 1, len(df)) <= .75\n",
    "train, test = df[df['is_train']==True], df[df['is_train']==False]\n",
    "print('Number of observations in the training data:', len(train))\n",
    "print('Number of observations in the test data:',len(test))"
   ]
  },
  {
   "cell_type": "code",
   "execution_count": 13,
   "metadata": {
    "collapsed": true
   },
   "outputs": [],
   "source": [
    "# Features\n",
    "features = df.columns[:-2]"
   ]
  },
  {
   "cell_type": "code",
   "execution_count": 14,
   "metadata": {},
   "outputs": [
    {
     "data": {
      "text/plain": [
       "Index(['ENSG00000005022', 'ENSG00000025772', 'ENSG00000031691',\n",
       "       'ENSG00000044012', 'ENSG00000048544', 'ENSG00000068985',\n",
       "       'ENSG00000070031', 'ENSG00000071677', 'ENSG00000073734',\n",
       "       'ENSG00000076641',\n",
       "       ...\n",
       "       'ENSG00000273254', 'ENSG00000273302', 'ENSG00000273305',\n",
       "       'ENSG00000273312', 'ENSG00000273320', 'ENSG00000273388',\n",
       "       'ENSG00000273403', 'ENSG00000273423', 'ENSG00000273448',\n",
       "       'ENSG00000273483'],\n",
       "      dtype='object', name='gene_id', length=2842)"
      ]
     },
     "execution_count": 14,
     "metadata": {},
     "output_type": "execute_result"
    }
   ],
   "source": [
    "features"
   ]
  },
  {
   "cell_type": "code",
   "execution_count": 23,
   "metadata": {},
   "outputs": [],
   "source": [
    "# Labels\n",
    "y = pd.factorize(train['cancer'])[0]"
   ]
  },
  {
   "cell_type": "code",
   "execution_count": 24,
   "metadata": {},
   "outputs": [
    {
     "data": {
      "text/plain": [
       "array([0, 0, 0, 0, 0, 0, 0, 0, 0, 0, 0, 0, 0, 0, 0, 0, 0, 0, 0, 0, 0, 0, 0,\n",
       "       0, 0, 0, 0, 0, 0, 0, 0, 0, 0, 0, 0, 0, 0, 0, 0, 0, 0, 0, 0, 0, 0, 0,\n",
       "       0, 0, 0, 0, 0, 0, 0, 0, 0, 0, 0, 0, 0, 0, 0, 0, 0, 0, 0, 0, 0, 0, 0,\n",
       "       0, 0, 0, 0, 0, 0, 0, 0, 0, 0, 0, 0, 0, 0, 0, 0, 0, 0, 0, 0, 0, 0, 0,\n",
       "       0, 0, 0, 0, 0, 0, 0, 0, 0, 0, 0, 0, 0, 0, 0, 0, 0, 0, 0, 0, 0, 0, 0,\n",
       "       0, 0, 0, 0, 0, 0, 0, 0, 0, 0, 0, 0, 0, 0, 0, 0, 0, 0, 0, 0, 0, 0, 0,\n",
       "       0, 0, 0, 0, 0, 0, 0, 0, 0, 0, 0, 0, 0, 0, 0, 0, 0, 0, 0, 0, 0, 0, 0,\n",
       "       0, 0, 0, 0, 0, 0, 0, 0, 0, 0, 0, 0, 0, 0, 0, 0, 0, 0, 0, 0, 0, 0, 0,\n",
       "       0, 0, 0, 0, 0, 0, 0, 0, 0, 0, 0, 0, 0, 0, 0, 0, 0, 0, 0, 0, 0, 0, 0,\n",
       "       0, 0, 0, 0, 0, 0, 0, 0, 0, 0, 0, 0, 0, 0, 0, 0, 0, 0, 0, 0, 0, 0, 0,\n",
       "       0, 0, 0, 0, 0, 0, 0, 0, 0, 0, 0, 0, 0, 0, 0, 0, 0, 0, 0, 0, 0, 0, 0,\n",
       "       0, 0, 0, 0, 0, 0, 0, 0, 0, 0, 0, 0, 0, 0, 0, 0, 0, 0, 0, 0, 0, 0, 0,\n",
       "       0, 0, 0, 0, 0, 0, 0, 0, 0, 0, 0, 0, 0, 0, 0, 0, 0, 0, 0, 0, 0, 0, 0,\n",
       "       0, 0, 0, 0, 0, 0, 0, 0, 0, 0, 0, 0, 0, 0, 0, 0, 0, 0, 0, 0, 0, 0, 0,\n",
       "       0, 0, 0, 0, 0, 0, 0, 0, 0, 0, 0, 0, 0, 0, 0, 0, 0, 0, 0, 0, 0, 0, 0,\n",
       "       0, 0, 0, 0, 0, 0, 0, 0, 0, 0, 0, 0, 0, 0, 0, 0, 0, 0, 0, 0, 0, 0, 0,\n",
       "       0, 0, 0, 0, 0, 0, 0, 0, 0, 0, 0, 0, 0, 0, 0, 0, 0, 0, 0, 0, 0, 0, 0])"
      ]
     },
     "execution_count": 24,
     "metadata": {},
     "output_type": "execute_result"
    }
   ],
   "source": [
    "# Create a random forest Classifier. By convention, clf means 'Classifier'\n",
    "clf = RandomForestClassifier(n_jobs=2, random_state=0, class_weight=None)\n",
    "clf_l1_LR = LogisticRegression(C=C, penalty='l1', tol=0.01)\n",
    "\n",
    "# Train the Classifier to take the training features and learn how they relate\n",
    "# to the training y (the species)\n",
    "clf.fit(train[features], y)"
   ]
  },
  {
   "cell_type": "code",
   "execution_count": null,
   "metadata": {
    "collapsed": true
   },
   "outputs": [],
   "source": [
    "# Create actual english names for the plants for each predicted plant class\n",
    "preds = iris.target_names[clf.predict(test[features])]\n",
    "pd.crosstab(test['cancer'], preds, rownames=['Actual'], colnames=['Predicted'])\n",
    "\n",
    "list(zip(train[features], clf.feature_importances_))"
   ]
  }
 ],
 "metadata": {
  "kernelspec": {
   "display_name": "Python [conda env:dlai]",
   "language": "python",
   "name": "conda-env-dlai-py"
  },
  "language_info": {
   "codemirror_mode": {
    "name": "ipython",
    "version": 3
   },
   "file_extension": ".py",
   "mimetype": "text/x-python",
   "name": "python",
   "nbconvert_exporter": "python",
   "pygments_lexer": "ipython3",
   "version": "3.6.2"
  }
 },
 "nbformat": 4,
 "nbformat_minor": 2
}
